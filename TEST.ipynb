{
 "cells": [
  {
   "cell_type": "markdown",
   "id": "abdcad32",
   "metadata": {},
   "source": [
    "What is Python?\n"
   ]
  },
  {
   "cell_type": "markdown",
   "id": "d46242d8",
   "metadata": {},
   "source": [
    "Python is an high-level, objected oriented programming langauge which is used to build websites and games.\n",
    "It is invented by guido van rossum in the year 1971, it is widely used in many companies and organizations. It is a bit easy to code and understand when it compares to other programming languages."
   ]
  },
  {
   "cell_type": "markdown",
   "id": "46b02a49",
   "metadata": {},
   "source": [
    "What are keywords? Why we use keywords"
   ]
  },
  {
   "cell_type": "markdown",
   "id": "c785cfcb",
   "metadata": {},
   "source": [
    "Keywords are special reserved characters and the"
   ]
  },
  {
   "cell_type": "markdown",
   "id": "34207bfe",
   "metadata": {},
   "source": [
    "Explain about Identifiers?"
   ]
  },
  {
   "cell_type": "markdown",
   "id": "8270fb90",
   "metadata": {},
   "source": [
    "It is a name used to identify a variable, function, class or other object."
   ]
  },
  {
   "cell_type": "markdown",
   "id": "a6c57fcb",
   "metadata": {},
   "source": [
    "Write a rules to create variables?"
   ]
  },
  {
   "cell_type": "markdown",
   "id": "b4e3f681",
   "metadata": {},
   "source": [
    "It starts with A to Z or a to z or underscores and digits from 0 to 9"
   ]
  },
  {
   "cell_type": "markdown",
   "id": "be220385",
   "metadata": {},
   "source": [
    "Explain about List."
   ]
  },
  {
   "cell_type": "markdown",
   "id": "a80e3167",
   "metadata": {},
   "source": [
    "It is a data type where data is stored in square brackets. The data in the list is mutable.\n",
    "Ex: a = [1,2,3,4]"
   ]
  },
  {
   "cell_type": "markdown",
   "id": "91f9df71",
   "metadata": {},
   "source": [
    "To access the data in list we use slicing and indexing"
   ]
  },
  {
   "cell_type": "code",
   "execution_count": 9,
   "id": "65bc1a2a",
   "metadata": {},
   "outputs": [
    {
     "name": "stdout",
     "output_type": "stream",
     "text": [
      "<class 'list'>\n"
     ]
    }
   ],
   "source": [
    "a=[1,2,5,8,5]\n",
    "print(type(a))"
   ]
  },
  {
   "cell_type": "code",
   "execution_count": 10,
   "id": "1bc6d5e9",
   "metadata": {},
   "outputs": [
    {
     "data": {
      "text/plain": [
       "1"
      ]
     },
     "execution_count": 10,
     "metadata": {},
     "output_type": "execute_result"
    }
   ],
   "source": [
    "a[0]"
   ]
  },
  {
   "cell_type": "code",
   "execution_count": 12,
   "id": "24f45706",
   "metadata": {},
   "outputs": [
    {
     "data": {
      "text/plain": [
       "8"
      ]
     },
     "execution_count": 12,
     "metadata": {},
     "output_type": "execute_result"
    }
   ],
   "source": [
    "a[3]"
   ]
  },
  {
   "cell_type": "markdown",
   "id": "a7c61d35",
   "metadata": {},
   "source": [
    "there are three string formats % operator.\n",
    "Formatting with format() string method.\n",
    "Formatting with string literals, f-strings\n"
   ]
  },
  {
   "cell_type": "markdown",
   "id": "71ef374d",
   "metadata": {},
   "source": [
    "There are three types of string formats. they are %,fstring and format()\n"
   ]
  },
  {
   "cell_type": "code",
   "execution_count": 14,
   "id": "3fc078cf",
   "metadata": {},
   "outputs": [
    {
     "name": "stdout",
     "output_type": "stream",
     "text": [
      "Name: Abhi, Age: 21, Height: 5.10\n"
     ]
    }
   ],
   "source": [
    "name = \"Abhi\"\n",
    "age = 21\n",
    "height = 5.10\n",
    "\n",
    "# Using the % operator\n",
    "print(\"Name: %s, Age: %d, Height: %.2f\" % (name, age, height))"
   ]
  },
  {
   "cell_type": "code",
   "execution_count": 15,
   "id": "784cb346",
   "metadata": {},
   "outputs": [
    {
     "name": "stdout",
     "output_type": "stream",
     "text": [
      "Name: Abhi, Age: 21, Height: 6.10\n"
     ]
    }
   ],
   "source": [
    "name = \"Abhi\"\n",
    "age = 21\n",
    "height = 6.1\n",
    "\n",
    "# Using the format() method\n",
    "print(\"Name: {}, Age: {}, Height: {:.2f}\".format(name, age, height))"
   ]
  },
  {
   "cell_type": "code",
   "execution_count": 17,
   "id": "e4892f35",
   "metadata": {},
   "outputs": [
    {
     "name": "stdout",
     "output_type": "stream",
     "text": [
      "Name: Abhi, Age: 21, Height: 6.00\n"
     ]
    }
   ],
   "source": [
    "name = \"Abhi\"\n",
    "age = 21\n",
    "height = 6\n",
    "# Using f-strings\n",
    "print(f\"Name: {name}, Age: {age}, Height: {height:.2f}\")"
   ]
  },
  {
   "cell_type": "markdown",
   "id": "2a3f33ff",
   "metadata": {},
   "source": [
    "Assignment Question"
   ]
  },
  {
   "cell_type": "code",
   "execution_count": 2,
   "id": "f7987c64",
   "metadata": {},
   "outputs": [
    {
     "name": "stdout",
     "output_type": "stream",
     "text": [
      "enter veg item:paneer\n",
      "enter non_veg item:paneer\n",
      "Your order will be served in 15min, please wait at your table\n"
     ]
    }
   ],
   "source": [
    "print(\"Bawarchi Restaurant\")\n",
    "print(\"Menu\")\n",
    "veg = input(\"enter veg item:\")\n",
    "non_veg = input(\"enter non_veg item:\")\n",
    "if (veg=='aloo curry','dal curry','palak'):\n",
    "     print(\"Your order will be served in 15min, please wait at your table\")\n",
    "elif(non_veg=='chicken','mutton','fish'):\n",
    "    print(\"Your order will be served in 25min, please wait at your table\")\n",
    "else:\n",
    "    print(\"Sorry sir the item you ordered is not available\")\n",
    "\n"
   ]
  },
  {
   "cell_type": "code",
   "execution_count": 1,
   "id": "04e8dab6",
   "metadata": {},
   "outputs": [
    {
     "name": "stdout",
     "output_type": "stream",
     "text": [
      "Bawarchi Restaurant\n",
      "Menu\n",
      "Enter your order: paneer\n",
      "Sorry, the item you ordered is not available.\n"
     ]
    }
   ],
   "source": [
    "def serve_order(order):\n",
    "    veg_items = {'aloo curry', 'dal curry', 'palak'}\n",
    "    non_veg_items = {'chicken', 'mutton', 'fish'}\n",
    "\n",
    "    if order in veg_items:\n",
    "        print(\"Your veg order will be served in 15 minutes, please wait at your table.\")\n",
    "    elif order in non_veg_items:\n",
    "        print(\"Your non-veg order will be served in 25 minutes, please wait at your table.\")\n",
    "    else:\n",
    "        print(\"Sorry, the item you ordered is not available.\")\n",
    "\n",
    "def main():\n",
    "    print(\"Bawarchi Restaurant\")\n",
    "    print(\"Menu\")\n",
    "    \n",
    "    order = input(\"Enter your order: \")\n",
    "    \n",
    "    serve_order(order)\n",
    "\n",
    "if __name__ == \"__main__\":\n",
    "    main()"
   ]
  },
  {
   "cell_type": "code",
   "execution_count": null,
   "id": "fa09b0fc",
   "metadata": {},
   "outputs": [],
   "source": []
  }
 ],
 "metadata": {
  "kernelspec": {
   "display_name": "Python 3 (ipykernel)",
   "language": "python",
   "name": "python3"
  },
  "language_info": {
   "codemirror_mode": {
    "name": "ipython",
    "version": 3
   },
   "file_extension": ".py",
   "mimetype": "text/x-python",
   "name": "python",
   "nbconvert_exporter": "python",
   "pygments_lexer": "ipython3",
   "version": "3.11.5"
  }
 },
 "nbformat": 4,
 "nbformat_minor": 5
}
