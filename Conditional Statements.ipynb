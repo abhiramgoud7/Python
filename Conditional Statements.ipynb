{
 "cells": [
  {
   "cell_type": "code",
   "execution_count": 4,
   "id": "5ce7ec33",
   "metadata": {},
   "outputs": [
    {
     "name": "stdout",
     "output_type": "stream",
     "text": [
      "not eligible\n"
     ]
    }
   ],
   "source": [
    "a=0\n",
    "if (a>18):\n",
    "    print(\"eligible to vote\")\n",
    "elif(a<18):\n",
    "    print(\"not eligible\")\n",
    "else:\n",
    "    print(\"zero\")\n",
    "    \n",
    "    "
   ]
  },
  {
   "cell_type": "code",
   "execution_count": 4,
   "id": "fd6d85e6",
   "metadata": {},
   "outputs": [
    {
     "name": "stdout",
     "output_type": "stream",
     "text": [
      "enter your age:17\n",
      "not eligible\n"
     ]
    }
   ],
   "source": [
    "age = int(input(\"enter your age:\"))\n",
    "if (age>=18):\n",
    "     print(\"eligible to vote\")\n",
    "elif(age<=18):\n",
    "    print(\"not eligible\")\n",
    "else:\n",
    "    print(\"hero\")"
   ]
  },
  {
   "cell_type": "code",
   "execution_count": 7,
   "id": "a5886c38",
   "metadata": {},
   "outputs": [
    {
     "name": "stdout",
     "output_type": "stream",
     "text": [
      "enter your age:65\n",
      "not eligible\n"
     ]
    }
   ],
   "source": [
    "abc = int(input(\"enter your age:\"))\n",
    "if (abc>=18)&(abc<=60):\n",
    "     print(\"eligible to vote\")\n",
    "elif (abc<=18)|(abc>=60):\n",
    "    print(\"not eligible\")\n",
    "else:\n",
    "    print(\"aaa\")"
   ]
  },
  {
   "cell_type": "code",
   "execution_count": null,
   "id": "2aefbea8",
   "metadata": {},
   "outputs": [],
   "source": []
  },
  {
   "cell_type": "code",
   "execution_count": null,
   "id": "98313e14",
   "metadata": {},
   "outputs": [],
   "source": []
  }
 ],
 "metadata": {
  "kernelspec": {
   "display_name": "Python 3 (ipykernel)",
   "language": "python",
   "name": "python3"
  },
  "language_info": {
   "codemirror_mode": {
    "name": "ipython",
    "version": 3
   },
   "file_extension": ".py",
   "mimetype": "text/x-python",
   "name": "python",
   "nbconvert_exporter": "python",
   "pygments_lexer": "ipython3",
   "version": "3.11.5"
  }
 },
 "nbformat": 4,
 "nbformat_minor": 5
}
