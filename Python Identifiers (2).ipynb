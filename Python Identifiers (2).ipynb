{
 "cells": [
  {
   "cell_type": "code",
   "execution_count": 1,
   "id": "bb3c2e47",
   "metadata": {},
   "outputs": [
    {
     "name": "stdout",
     "output_type": "stream",
     "text": [
      "Hello World\n"
     ]
    }
   ],
   "source": [
    "print('Hello World')"
   ]
  },
  {
   "cell_type": "markdown",
   "id": "42cbdbed",
   "metadata": {},
   "source": [
    "# Python Identifiers"
   ]
  },
  {
   "cell_type": "markdown",
   "id": "df9e5184",
   "metadata": {},
   "source": [
    "A python identifier is a name used to identify a variable, function, class, module or other object."
   ]
  },
  {
   "cell_type": "markdown",
   "id": "1c172038",
   "metadata": {},
   "source": [
    "An identifier starts with a letter A to Z or a to z or an underscore (_) followed by zero or more letters, underscores and digits (0 to 9)."
   ]
  },
  {
   "cell_type": "markdown",
   "id": "b598e0d8",
   "metadata": {},
   "source": [
    "Python is a case sensitive programming language. Thus, 'Manpower' and 'manpower' are two different identifiers in pyhton."
   ]
  },
  {
   "cell_type": "markdown",
   "id": "95e5e115",
   "metadata": {},
   "source": [
    "# # Valid Identifiers\n"
   ]
  },
  {
   "cell_type": "code",
   "execution_count": 16,
   "id": "eb1c9073",
   "metadata": {},
   "outputs": [],
   "source": [
    "abhi=7"
   ]
  },
  {
   "cell_type": "code",
   "execution_count": 22,
   "id": "3f47760a",
   "metadata": {},
   "outputs": [],
   "source": [
    "a_bhi=77"
   ]
  },
  {
   "cell_type": "code",
   "execution_count": 23,
   "id": "7d720234",
   "metadata": {},
   "outputs": [],
   "source": [
    "_abhiram=7"
   ]
  },
  {
   "cell_type": "code",
   "execution_count": 24,
   "id": "a5cfa15e",
   "metadata": {},
   "outputs": [],
   "source": [
    "var=8\n"
   ]
  },
  {
   "cell_type": "code",
   "execution_count": 25,
   "id": "93573700",
   "metadata": {},
   "outputs": [],
   "source": [
    "v_ar = 123"
   ]
  },
  {
   "cell_type": "code",
   "execution_count": 27,
   "id": "194e5b22",
   "metadata": {},
   "outputs": [],
   "source": [
    "_a_b=45"
   ]
  },
  {
   "cell_type": "code",
   "execution_count": 28,
   "id": "a07c649d",
   "metadata": {},
   "outputs": [],
   "source": [
    "__aa=1234"
   ]
  },
  {
   "cell_type": "code",
   "execution_count": 29,
   "id": "98d8712b",
   "metadata": {},
   "outputs": [],
   "source": [
    "valid_identifiers=123456789"
   ]
  },
  {
   "cell_type": "code",
   "execution_count": 31,
   "id": "bf4e1843",
   "metadata": {},
   "outputs": [],
   "source": [
    "python_var=145"
   ]
  },
  {
   "cell_type": "code",
   "execution_count": 33,
   "id": "9cc65488",
   "metadata": {},
   "outputs": [],
   "source": [
    "abcd=1234"
   ]
  },
  {
   "cell_type": "markdown",
   "id": "54f9bc66",
   "metadata": {},
   "source": [
    "# # Invalid Identifiers"
   ]
  },
  {
   "cell_type": "code",
   "execution_count": 34,
   "id": "895e55bd",
   "metadata": {},
   "outputs": [
    {
     "ename": "SyntaxError",
     "evalue": "invalid decimal literal (3609506914.py, line 1)",
     "output_type": "error",
     "traceback": [
      "\u001b[1;36m  Cell \u001b[1;32mIn[34], line 1\u001b[1;36m\u001b[0m\n\u001b[1;33m    7abhi= 7\u001b[0m\n\u001b[1;37m    ^\u001b[0m\n\u001b[1;31mSyntaxError\u001b[0m\u001b[1;31m:\u001b[0m invalid decimal literal\n"
     ]
    }
   ],
   "source": [
    "7abhi= 7"
   ]
  },
  {
   "cell_type": "code",
   "execution_count": 35,
   "id": "18b40d09",
   "metadata": {},
   "outputs": [
    {
     "ename": "SyntaxError",
     "evalue": "invalid syntax (3167151495.py, line 1)",
     "output_type": "error",
     "traceback": [
      "\u001b[1;36m  Cell \u001b[1;32mIn[35], line 1\u001b[1;36m\u001b[0m\n\u001b[1;33m    and=7\u001b[0m\n\u001b[1;37m    ^\u001b[0m\n\u001b[1;31mSyntaxError\u001b[0m\u001b[1;31m:\u001b[0m invalid syntax\n"
     ]
    }
   ],
   "source": [
    "and=7"
   ]
  },
  {
   "cell_type": "code",
   "execution_count": 36,
   "id": "f76634ee",
   "metadata": {},
   "outputs": [
    {
     "ename": "SyntaxError",
     "evalue": "invalid syntax (206069658.py, line 1)",
     "output_type": "error",
     "traceback": [
      "\u001b[1;36m  Cell \u001b[1;32mIn[36], line 1\u001b[1;36m\u001b[0m\n\u001b[1;33m    for=111\u001b[0m\n\u001b[1;37m       ^\u001b[0m\n\u001b[1;31mSyntaxError\u001b[0m\u001b[1;31m:\u001b[0m invalid syntax\n"
     ]
    }
   ],
   "source": [
    "for=111"
   ]
  },
  {
   "cell_type": "code",
   "execution_count": 37,
   "id": "02eecea3",
   "metadata": {},
   "outputs": [
    {
     "ename": "SyntaxError",
     "evalue": "invalid decimal literal (3876827081.py, line 1)",
     "output_type": "error",
     "traceback": [
      "\u001b[1;36m  Cell \u001b[1;32mIn[37], line 1\u001b[1;36m\u001b[0m\n\u001b[1;33m    8_aa=178\u001b[0m\n\u001b[1;37m     ^\u001b[0m\n\u001b[1;31mSyntaxError\u001b[0m\u001b[1;31m:\u001b[0m invalid decimal literal\n"
     ]
    }
   ],
   "source": [
    "8_aa=178"
   ]
  },
  {
   "cell_type": "code",
   "execution_count": 38,
   "id": "36a0ec57",
   "metadata": {},
   "outputs": [
    {
     "ename": "SyntaxError",
     "evalue": "invalid syntax (4232067235.py, line 1)",
     "output_type": "error",
     "traceback": [
      "\u001b[1;36m  Cell \u001b[1;32mIn[38], line 1\u001b[1;36m\u001b[0m\n\u001b[1;33m    class=7\u001b[0m\n\u001b[1;37m         ^\u001b[0m\n\u001b[1;31mSyntaxError\u001b[0m\u001b[1;31m:\u001b[0m invalid syntax\n"
     ]
    }
   ],
   "source": [
    "class=7"
   ]
  },
  {
   "cell_type": "code",
   "execution_count": 39,
   "id": "2a73d6ac",
   "metadata": {},
   "outputs": [
    {
     "ename": "SyntaxError",
     "evalue": "invalid syntax. Maybe you meant '==' or ':=' instead of '='? (422972228.py, line 1)",
     "output_type": "error",
     "traceback": [
      "\u001b[1;36m  Cell \u001b[1;32mIn[39], line 1\u001b[1;36m\u001b[0m\n\u001b[1;33m    @bv_mkcm=124\u001b[0m\n\u001b[1;37m     ^\u001b[0m\n\u001b[1;31mSyntaxError\u001b[0m\u001b[1;31m:\u001b[0m invalid syntax. Maybe you meant '==' or ':=' instead of '='?\n"
     ]
    }
   ],
   "source": [
    "@bv_mkcm=124\n"
   ]
  },
  {
   "cell_type": "code",
   "execution_count": 40,
   "id": "6e67cd2a",
   "metadata": {},
   "outputs": [
    {
     "ename": "SyntaxError",
     "evalue": "invalid syntax (3608024432.py, line 1)",
     "output_type": "error",
     "traceback": [
      "\u001b[1;36m  Cell \u001b[1;32mIn[40], line 1\u001b[1;36m\u001b[0m\n\u001b[1;33m    while=4787\u001b[0m\n\u001b[1;37m         ^\u001b[0m\n\u001b[1;31mSyntaxError\u001b[0m\u001b[1;31m:\u001b[0m invalid syntax\n"
     ]
    }
   ],
   "source": [
    "while=4787"
   ]
  },
  {
   "cell_type": "code",
   "execution_count": 42,
   "id": "cb0ae853",
   "metadata": {},
   "outputs": [
    {
     "ename": "SyntaxError",
     "evalue": "invalid imaginary literal (1935942175.py, line 1)",
     "output_type": "error",
     "traceback": [
      "\u001b[1;36m  Cell \u001b[1;32mIn[42], line 1\u001b[1;36m\u001b[0m\n\u001b[1;33m    7jupyter=7\u001b[0m\n\u001b[1;37m     ^\u001b[0m\n\u001b[1;31mSyntaxError\u001b[0m\u001b[1;31m:\u001b[0m invalid imaginary literal\n"
     ]
    }
   ],
   "source": [
    "7jupyter=7"
   ]
  },
  {
   "cell_type": "code",
   "execution_count": 43,
   "id": "6e11f45c",
   "metadata": {},
   "outputs": [
    {
     "ename": "SyntaxError",
     "evalue": "invalid syntax (1506519919.py, line 1)",
     "output_type": "error",
     "traceback": [
      "\u001b[1;36m  Cell \u001b[1;32mIn[43], line 1\u001b[1;36m\u001b[0m\n\u001b[1;33m    not=8\u001b[0m\n\u001b[1;37m       ^\u001b[0m\n\u001b[1;31mSyntaxError\u001b[0m\u001b[1;31m:\u001b[0m invalid syntax\n"
     ]
    }
   ],
   "source": [
    "not=8"
   ]
  },
  {
   "cell_type": "code",
   "execution_count": 44,
   "id": "5a8658ab",
   "metadata": {},
   "outputs": [
    {
     "ename": "SyntaxError",
     "evalue": "invalid syntax (3383163570.py, line 1)",
     "output_type": "error",
     "traceback": [
      "\u001b[1;36m  Cell \u001b[1;32mIn[44], line 1\u001b[1;36m\u001b[0m\n\u001b[1;33m    or=4\u001b[0m\n\u001b[1;37m    ^\u001b[0m\n\u001b[1;31mSyntaxError\u001b[0m\u001b[1;31m:\u001b[0m invalid syntax\n"
     ]
    }
   ],
   "source": [
    "or=4"
   ]
  }
 ],
 "metadata": {
  "kernelspec": {
   "display_name": "Python 3 (ipykernel)",
   "language": "python",
   "name": "python3"
  },
  "language_info": {
   "codemirror_mode": {
    "name": "ipython",
    "version": 3
   },
   "file_extension": ".py",
   "mimetype": "text/x-python",
   "name": "python",
   "nbconvert_exporter": "python",
   "pygments_lexer": "ipython3",
   "version": "3.11.5"
  }
 },
 "nbformat": 4,
 "nbformat_minor": 5
}
