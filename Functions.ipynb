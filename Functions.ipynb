{
 "cells": [
  {
   "cell_type": "code",
   "execution_count": 2,
   "id": "72c94b7b",
   "metadata": {},
   "outputs": [
    {
     "name": "stdout",
     "output_type": "stream",
     "text": [
      "Humans are called by names like Abhiram\n"
     ]
    }
   ],
   "source": [
    "def HUMAN(names):\n",
    "    print(f\"Humans are called by names like {names}\")                      # CALLING THE FUNCTION\n",
    "HUMAN(\"Abhiram\")"
   ]
  },
  {
   "cell_type": "code",
   "execution_count": 4,
   "id": "be68a247",
   "metadata": {},
   "outputs": [
    {
     "name": "stdout",
     "output_type": "stream",
     "text": [
      "sub: -1\n",
      "mul: 12\n",
      "div: 0.75\n",
      "modulus: 3\n"
     ]
    }
   ],
   "source": [
    "def num(num1,num2):\n",
    "    sub=num1-num2                        # sub,mul,div,modulus with the FUNCTION\n",
    "    mul=num1*num2\n",
    "    div=num1/num2                                   \n",
    "    modulus=num1%num2                              \n",
    "    print(\"sub:\",sub)\n",
    "    print(\"mul:\",mul)\n",
    "    print(\"div:\",div)\n",
    "    print(\"modulus:\",modulus)\n",
    "num(3,4)"
   ]
  },
  {
   "cell_type": "code",
   "execution_count": 5,
   "id": "43f85156",
   "metadata": {},
   "outputs": [
    {
     "data": {
      "text/plain": [
       "49"
      ]
     },
     "execution_count": 5,
     "metadata": {},
     "output_type": "execute_result"
    }
   ],
   "source": [
    "def mul(num):\n",
    "    result=num * num                               \n",
    "    return result\n",
    "mul(7)"
   ]
  },
  {
   "cell_type": "code",
   "execution_count": 7,
   "id": "dcf7c897",
   "metadata": {},
   "outputs": [
    {
     "name": "stdout",
     "output_type": "stream",
     "text": [
      "sqrt of 121 is 11.0\n",
      "2 to the power 3 is 8\n"
     ]
    }
   ],
   "source": [
    "import math\n",
    "sqrt=math.sqrt(121)\n",
    "print(\"sqrt of 121 is\",sqrt)                      \n",
    "power=pow(2,3)\n",
    "print(\"2 to the power 3 is\",power)"
   ]
  },
  {
   "cell_type": "code",
   "execution_count": 8,
   "id": "2709a1c7",
   "metadata": {},
   "outputs": [
    {
     "name": "stdout",
     "output_type": "stream",
     "text": [
      "129\n"
     ]
    }
   ],
   "source": [
    "U=lambda K : K * 43\n",
    "print(U(3))   "
   ]
  },
  {
   "cell_type": "code",
   "execution_count": 9,
   "id": "60fa1143",
   "metadata": {},
   "outputs": [
    {
     "name": "stdout",
     "output_type": "stream",
     "text": [
      "14.3\n"
     ]
    }
   ],
   "source": [
    "K= lambda M,N : M/N\n",
    "P= K(1430,100)                                    \n",
    "print(P)"
   ]
  },
  {
   "cell_type": "code",
   "execution_count": 10,
   "id": "ad4b0805",
   "metadata": {},
   "outputs": [
    {
     "name": "stdout",
     "output_type": "stream",
     "text": [
      "From Addagutta society  to Teks Academy the time taken is nearly 30 to 35 minutes\n"
     ]
    }
   ],
   "source": [
    "def N():\n",
    "    B=\"From Addagutta society  to Teks Academy the time taken is nearly 30 to 35 minutes\"\n",
    "    print(B)\n",
    "N()"
   ]
  },
  {
   "cell_type": "code",
   "execution_count": 11,
   "id": "19f6993e",
   "metadata": {},
   "outputs": [
    {
     "name": "stdout",
     "output_type": "stream",
     "text": [
      "This function is Python Programs for Data Science\n"
     ]
    }
   ],
   "source": [
    "A=\"Python Programs for Data Science\"\n",
    "def D():\n",
    "    print(\"This function is\",A)               \n",
    "D() "
   ]
  },
  {
   "cell_type": "code",
   "execution_count": 12,
   "id": "3a70a186",
   "metadata": {},
   "outputs": [
    {
     "name": "stdout",
     "output_type": "stream",
     "text": [
      "Abhi\n",
      "21\n"
     ]
    }
   ],
   "source": [
    "class person:\n",
    "    def __init__(self,name,age):\n",
    "        self.name=name                      # Creating class and object with Function\n",
    "        self.age=age\n",
    "P1=person(\"Abhi\",21)\n",
    "print(P1.name)\n",
    "print(P1.age)"
   ]
  },
  {
   "cell_type": "code",
   "execution_count": null,
   "id": "8a646b1b",
   "metadata": {},
   "outputs": [],
   "source": []
  }
 ],
 "metadata": {
  "kernelspec": {
   "display_name": "Python 3 (ipykernel)",
   "language": "python",
   "name": "python3"
  },
  "language_info": {
   "codemirror_mode": {
    "name": "ipython",
    "version": 3
   },
   "file_extension": ".py",
   "mimetype": "text/x-python",
   "name": "python",
   "nbconvert_exporter": "python",
   "pygments_lexer": "ipython3",
   "version": "3.11.5"
  }
 },
 "nbformat": 4,
 "nbformat_minor": 5
}
